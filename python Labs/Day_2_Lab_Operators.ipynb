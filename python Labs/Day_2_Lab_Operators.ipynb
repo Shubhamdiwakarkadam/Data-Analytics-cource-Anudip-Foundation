{
  "nbformat": 4,
  "nbformat_minor": 0,
  "metadata": {
    "colab": {
      "provenance": [],
      "gpuType": "T4"
    },
    "kernelspec": {
      "name": "python3",
      "display_name": "Python 3"
    },
    "language_info": {
      "name": "python"
    },
    "accelerator": "GPU"
  },
  "cells": [
    {
      "cell_type": "markdown",
      "source": [
        "1. Calculate the multiplication and sum of two numbers"
      ],
      "metadata": {
        "id": "FfQVrLN8UgHD"
      }
    },
    {
      "cell_type": "code",
      "source": [
        "number1 = 20\n",
        "number2 = 30\n",
        "\n",
        "#multiplication\n",
        "\n",
        "result1 = number1 * number2\n",
        "print(result1)\n",
        "\n",
        "#sum\n",
        "\n",
        "result2 = number1 + number2\n",
        "print(result2)\n"
      ],
      "metadata": {
        "colab": {
          "base_uri": "https://localhost:8080/"
        },
        "id": "FHvAiwjHUfpb",
        "outputId": "2fdd8d77-4fe6-4444-efbc-d1c32ebc6b0e"
      },
      "execution_count": 10,
      "outputs": [
        {
          "output_type": "stream",
          "name": "stdout",
          "text": [
            "600\n",
            "50\n"
          ]
        }
      ]
    },
    {
      "cell_type": "markdown",
      "source": [
        "2. Declare two variables and print that which variable is largest using ternary operators"
      ],
      "metadata": {
        "id": "GL9g14-SVBES"
      }
    },
    {
      "cell_type": "code",
      "source": [
        "number1 = 40\n",
        "number2 = 80\n",
        "\n",
        "result = number1 if number1 > number2 else number2\n",
        "print(result)\n"
      ],
      "metadata": {
        "colab": {
          "base_uri": "https://localhost:8080/"
        },
        "id": "aj0WYW-_VErY",
        "outputId": "713cc619-cd66-4e9e-a7bf-26dfd69ea015"
      },
      "execution_count": 11,
      "outputs": [
        {
          "output_type": "stream",
          "name": "stdout",
          "text": [
            "80\n"
          ]
        }
      ]
    },
    {
      "cell_type": "markdown",
      "source": [
        "3. Python program to convert the temperature in degree centigrade to Fahrenheit\n",
        "\n"
      ],
      "metadata": {
        "id": "ZK-aUINxVaC-"
      }
    },
    {
      "cell_type": "code",
      "source": [
        "def celsius_to_fahrenheit(celsius):\n",
        "    fahrenheit = (celsius * 9/5) + 32\n",
        "    return fahrenheit\n",
        "\n",
        "celsius = float(input(\"Enter temperature in Celsius: \"))\n",
        "fahrenheit = celsius_to_fahrenheit(celsius)\n",
        "print(f\"{celsius}C is equal to {fahrenheit}F\")"
      ],
      "metadata": {
        "colab": {
          "base_uri": "https://localhost:8080/"
        },
        "id": "If-jPvSlVbA8",
        "outputId": "84e31f3c-15ab-48fd-bbee-a2f5d941c91f"
      },
      "execution_count": 13,
      "outputs": [
        {
          "output_type": "stream",
          "name": "stdout",
          "text": [
            "Enter temperature in Celsius: 60\n",
            "60.0C is equal to 140.0F\n"
          ]
        }
      ]
    },
    {
      "cell_type": "markdown",
      "source": [
        "4. Python program to find the area of a triangle whose sides are given\n",
        "\n",
        "**bold text**"
      ],
      "metadata": {
        "id": "rk9wLp1mVbW3"
      }
    },
    {
      "cell_type": "code",
      "source": [
        "import math\n",
        "\n",
        "# Function to calculate the area of a triangle using Heron's formula\n",
        "def triangle_area(a, b, c):\n",
        "    # Calculate semi-perimeter\n",
        "    s = (a + b + c) / 2\n",
        "    # Calculate the area\n",
        "    area = math.sqrt(s * (s - a) * (s - b) * (s - c))\n",
        "    return area\n",
        "\n",
        "# Input the sides of the triangle\n",
        "a = float(input(\"Enter the length of side a: \"))\n",
        "b = float(input(\"Enter the length of side b: \"))\n",
        "c = float(input(\"Enter the length of side c: \"))\n",
        "\n",
        "# Calculate and display the area\n",
        "area = triangle_area(a, b, c)\n",
        "print(f\"The area of the triangle with sides {a}, {b}, and {c} is: {area}\")\n"
      ],
      "metadata": {
        "colab": {
          "base_uri": "https://localhost:8080/"
        },
        "id": "awKSDhivVeXk",
        "outputId": "469b06a1-3c9b-4e59-ad3e-8dd240c850e9"
      },
      "execution_count": 15,
      "outputs": [
        {
          "output_type": "stream",
          "name": "stdout",
          "text": [
            "Enter the length of side a: 8\n",
            "Enter the length of side b: 8\n",
            "Enter the length of side c: 8\n",
            "The area of the triangle with sides 8.0, 8.0, and 8.0 is: 27.712812921102035\n"
          ]
        }
      ]
    }
  ]
}