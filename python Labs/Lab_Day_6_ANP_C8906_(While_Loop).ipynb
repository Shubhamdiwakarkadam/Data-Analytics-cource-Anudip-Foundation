{
  "nbformat": 4,
  "nbformat_minor": 0,
  "metadata": {
    "colab": {
      "provenance": []
    },
    "kernelspec": {
      "name": "python3",
      "display_name": "Python 3"
    },
    "language_info": {
      "name": "python"
    }
  },
  "cells": [
    {
      "cell_type": "markdown",
      "source": [
        "1. Write a python program to reverse a number using a while loop."
      ],
      "metadata": {
        "id": "bKUxfzNtR4qq"
      }
    },
    {
      "cell_type": "code",
      "execution_count": null,
      "metadata": {
        "colab": {
          "base_uri": "https://localhost:8080/"
        },
        "id": "_HCpxU9FR17U",
        "outputId": "f0be9f0a-c849-441f-c03c-e69230541b52"
      },
      "outputs": [
        {
          "output_type": "stream",
          "name": "stdout",
          "text": [
            "Enter a number to reverse: 10\n",
            "The reversed number is: 1\n"
          ]
        }
      ],
      "source": [
        "# Function to reverse a number\n",
        "def reverse_number(num):\n",
        "    reversed_num = 0\n",
        "    while num != 0:\n",
        "        digit = num % 10  # Extract the last digit\n",
        "        reversed_num = reversed_num * 10 + digit  # Append the digit to the reversed number\n",
        "        num //= 10  # Remove the last digit from the number\n",
        "    return reversed_num\n",
        "\n",
        "# Input from the user\n",
        "number = int(input(\"Enter a number to reverse: \"))\n",
        "reversed_number = reverse_number(number)\n",
        "\n",
        "print(f\"The reversed number is: {reversed_number}\")\n"
      ]
    },
    {
      "cell_type": "markdown",
      "source": [
        "2. Write a python program to check whether a number is palindrome or not?"
      ],
      "metadata": {
        "id": "iwYjNwP3SDzz"
      }
    },
    {
      "cell_type": "code",
      "source": [
        "# Function to check if a number is a palindrome\n",
        "def is_palindrome(num):\n",
        "    original_num = num  # Store the original number\n",
        "    reversed_num = 0\n",
        "\n",
        "    # Reverse the number\n",
        "    while num != 0:\n",
        "        digit = num % 10  # Extract the last digit\n",
        "        reversed_num = reversed_num * 10 + digit  # Append the digit to reversed_num\n",
        "        num //= 10  # Remove the last digit from num\n",
        "\n",
        "    # Check if the original number is equal to the reversed number\n",
        "    return original_num == reversed_num\n",
        "\n",
        "# Input from the user\n",
        "number = int(input(\"Enter a number to check if it's a palindrome: \"))\n",
        "\n",
        "if is_palindrome(number):\n",
        "    print(f\"{number} is a palindrome.\")\n",
        "else:\n",
        "    print(f\"{number} is not a palindrome.\")\n"
      ],
      "metadata": {
        "colab": {
          "base_uri": "https://localhost:8080/"
        },
        "id": "VVwb4FxgSEo2",
        "outputId": "1a861ee5-f951-4c84-d53e-6199572a2f25"
      },
      "execution_count": null,
      "outputs": [
        {
          "output_type": "stream",
          "name": "stdout",
          "text": [
            "Enter a number to check if it's a palindrome: 121\n",
            "121 is a palindrome.\n"
          ]
        }
      ]
    },
    {
      "cell_type": "markdown",
      "source": [
        "3. Write a python program finding the factorial of a given number using a while loop."
      ],
      "metadata": {
        "id": "0kGtse1uSTX7"
      }
    },
    {
      "cell_type": "code",
      "source": [
        "# Function to calculate the factorial using a while loop\n",
        "def factorial(num):\n",
        "    if num < 0:\n",
        "        return \"Factorial is not defined for negative numbers.\"\n",
        "    result = 1\n",
        "    while num > 0:\n",
        "        result *= num  # Multiply the result by the current number\n",
        "        num -= 1  # Decrease the number by 1\n",
        "    return result\n",
        "\n",
        "# Input from the user\n",
        "number = int(input(\"Enter a number to find its factorial: \"))\n",
        "\n",
        "# Display the result\n",
        "print(f\"The factorial of {number} is: {factorial(number)}\")\n"
      ],
      "metadata": {
        "colab": {
          "base_uri": "https://localhost:8080/"
        },
        "id": "xYj_a708SZBa",
        "outputId": "b03c6529-d135-4e41-bd08-4969dac150d9"
      },
      "execution_count": null,
      "outputs": [
        {
          "output_type": "stream",
          "name": "stdout",
          "text": [
            "Enter a number to find its factorial: 5\n",
            "The factorial of 5 is: 120\n"
          ]
        }
      ]
    },
    {
      "cell_type": "markdown",
      "source": [
        "4. Accept numbers using input() function until the user enters 0. If user input 0 then break the while loop and display the sum of all the numbers."
      ],
      "metadata": {
        "id": "YhA1gQjzSg_Z"
      }
    },
    {
      "cell_type": "code",
      "source": [
        "# Program to calculate the sum of numbers until 0 is entered\n",
        "def sum_numbers():\n",
        "    total = 0\n",
        "    while True:\n",
        "        num = int(input(\"Enter a number (or 0 to stop): \"))\n",
        "        if num == 0:  # Break the loop if the user enters 0\n",
        "            break\n",
        "        total += num  # Add the number to the total\n",
        "    return total\n",
        "\n",
        "# Calculate and display the sum\n",
        "print(f\"The sum of all numbers is: {sum_numbers()}\")\n"
      ],
      "metadata": {
        "colab": {
          "base_uri": "https://localhost:8080/"
        },
        "id": "vcqbrugaShyB",
        "outputId": "4f9f4432-74e0-49e5-8e4d-c6c73950202a"
      },
      "execution_count": null,
      "outputs": [
        {
          "output_type": "stream",
          "name": "stdout",
          "text": [
            "Enter a number (or 0 to stop): 5\n",
            "Enter a number (or 0 to stop): 10\n",
            "Enter a number (or 0 to stop): 3\n",
            "Enter a number (or 0 to stop): 0\n",
            "The sum of all numbers is: 18\n"
          ]
        }
      ]
    }
  ]
}