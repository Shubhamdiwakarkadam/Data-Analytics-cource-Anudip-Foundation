{
  "nbformat": 4,
  "nbformat_minor": 0,
  "metadata": {
    "colab": {
      "provenance": []
    },
    "kernelspec": {
      "name": "python3",
      "display_name": "Python 3"
    },
    "language_info": {
      "name": "python"
    }
  },
  "cells": [
    {
      "cell_type": "markdown",
      "source": [
        "1. Python program to check leap year."
      ],
      "metadata": {
        "id": "lCzw4ijOm66N"
      }
    },
    {
      "cell_type": "code",
      "execution_count": null,
      "metadata": {
        "colab": {
          "base_uri": "https://localhost:8080/"
        },
        "id": "1iZPnvm7mkrI",
        "outputId": "497e0dc5-c898-4892-88ee-1c29ac36e5fe"
      },
      "outputs": [
        {
          "output_type": "stream",
          "name": "stdout",
          "text": [
            "Enter a year: 2024\n",
            "2024 is a leap year.\n"
          ]
        }
      ],
      "source": [
        "# Program to check if a year is a leap year\n",
        "\n",
        "# Input: Ask the user to enter a year\n",
        "year = int(input(\"Enter a year: \"))\n",
        "\n",
        "# Leap year conditions\n",
        "if (year % 4 == 0 and year % 100 != 0) or (year % 400 == 0):\n",
        "    print(f\"{year} is a leap year.\")\n",
        "else:\n",
        "    print(f\"{year} is not a leap year.\")\n"
      ]
    },
    {
      "cell_type": "markdown",
      "source": [
        "2. Python Program to Find the Largest Among Three Numbers."
      ],
      "metadata": {
        "id": "-UFeO_p9nLn6"
      }
    },
    {
      "cell_type": "code",
      "source": [
        "# Program to find the largest among three numbers\n",
        "\n",
        "# Input: Ask the user to enter three numbers\n",
        "num1 = float(input(\"Enter the first number: \"))\n",
        "num2 = float(input(\"Enter the second number: \"))\n",
        "num3 = float(input(\"Enter the third number: \"))\n",
        "\n",
        "# Determine the largest number\n",
        "if num1 >= num2 and num1 >= num3:\n",
        "    largest = num1\n",
        "elif num2 >= num1 and num2 >= num3:\n",
        "    largest = num2\n",
        "else:\n",
        "    largest = num3\n",
        "\n",
        "# Output: Display the largest number\n",
        "print(f\"The largest number among {num1}, {num2}, and {num3} is {largest}.\")\n"
      ],
      "metadata": {
        "colab": {
          "base_uri": "https://localhost:8080/"
        },
        "id": "qZVD6VosnQxT",
        "outputId": "6817cb85-a849-4a75-cb08-453917b60623"
      },
      "execution_count": null,
      "outputs": [
        {
          "output_type": "stream",
          "name": "stdout",
          "text": [
            "Enter the first number: 40\n",
            "Enter the second number: 50\n",
            "Enter the third number: 60\n",
            "The largest number among 40.0, 50.0, and 60.0 is 60.0.\n"
          ]
        }
      ]
    },
    {
      "cell_type": "markdown",
      "source": [
        "3. Python Program to Check if a Number is Positive, Negative or 0.\n",
        "\n"
      ],
      "metadata": {
        "id": "OvAQ5mqdnlMM"
      }
    },
    {
      "cell_type": "code",
      "source": [
        "# Program to check if a number is positive, negative, or zero\n",
        "\n",
        "# Input: Ask the user to enter a number\n",
        "number = float(input(\"Enter a number: \"))\n",
        "\n",
        "# Check conditions\n",
        "if number > 0:\n",
        "    print(f\"{number} is a positive number.\")\n",
        "elif number < 0:\n",
        "    print(f\"{number} is a negative number.\")\n",
        "else:\n",
        "    print(f\"The number is zero.\")\n"
      ],
      "metadata": {
        "colab": {
          "base_uri": "https://localhost:8080/"
        },
        "id": "c_AtQvA1nfY7",
        "outputId": "b8e01eb8-286e-4078-91b2-947c720441c2"
      },
      "execution_count": null,
      "outputs": [
        {
          "output_type": "stream",
          "name": "stdout",
          "text": [
            "Enter a number: -5\n",
            "-5.0 is a negative number.\n"
          ]
        }
      ]
    },
    {
      "cell_type": "code",
      "source": [
        "# Program to calculate the net amount after discount based on toy type\n",
        "\n",
        "# Input: Read product code and order amount\n",
        "product_code = int(input(\"Enter the product code (1 for Battery-Based Toys, 2 for Key-Based Toys, 3 for Electrical Charging-Based Toys): \"))\n",
        "order_amount = float(input(\"Enter the order amount: \"))\n",
        "\n",
        "# Calculate discount and net amount\n",
        "if product_code == 1:  # Battery-Based Toys\n",
        "    if order_amount > 1000:\n",
        "        discount = 0.10 * order_amount\n",
        "    else:\n",
        "        discount = 0\n",
        "elif product_code == 2:  # Key-Based Toys\n",
        "    if order_amount > 100:\n",
        "        discount = 0.05 * order_amount\n",
        "    else:\n",
        "        discount = 0\n",
        "elif product_code == 3:  # Electrical Charging-Based Toys\n",
        "    if order_amount > 500:\n",
        "        discount = 0.10 * order_amount\n",
        "    else:\n",
        "        discount = 0\n",
        "else:\n",
        "    print(\"Invalid product code!\")\n",
        "    discount = 0\n",
        "\n",
        "# Calculate the net amount\n",
        "net_amount = order_amount - discount\n",
        "\n",
        "# Output: Display the result\n",
        "print(f\"Order Amount: Rs. {order_amount:.2f}\")\n",
        "print(f\"Discount: Rs. {discount:.2f}\")\n",
        "print(f\"Net Amount Payable: Rs. {net_amount:.2f}\")\n"
      ],
      "metadata": {
        "colab": {
          "base_uri": "https://localhost:8080/"
        },
        "id": "AXy_e9E7oPYX",
        "outputId": "f41e41d2-9986-4299-d572-98833e2f4ad0"
      },
      "execution_count": null,
      "outputs": [
        {
          "output_type": "stream",
          "name": "stdout",
          "text": [
            "Enter the product code (1 for Battery-Based Toys, 2 for Key-Based Toys, 3 for Electrical Charging-Based Toys): 3\n",
            "Enter the order amount: 40000\n",
            "Order Amount: Rs. 40000.00\n",
            "Discount: Rs. 4000.00\n",
            "Net Amount Payable: Rs. 36000.00\n"
          ]
        }
      ]
    },
    {
      "cell_type": "markdown",
      "source": [
        "5. A transport company charges the fare according to following table:\n",
        "\n",
        "Distance   Charges\n",
        "\n",
        "1-50            8 Rs./Km\n",
        "\n",
        "51-100         10 Rs./Km\n",
        "\n",
        "> 100            12 Rs/Km\n",
        "\n",
        "Write a python program to calculate the transport distance entered by user."
      ],
      "metadata": {
        "id": "y-umudp-oevV"
      }
    },
    {
      "cell_type": "code",
      "source": [
        "# Program to calculate transport fare based on distance\n",
        "\n",
        "# Input: Read the distance traveled from the user\n",
        "distance = float(input(\"Enter the distance traveled (in km): \"))\n",
        "\n",
        "# Calculate the fare based on the distance\n",
        "if 1 <= distance <= 50:\n",
        "    fare = distance * 8\n",
        "elif 51 <= distance <= 100:\n",
        "    fare = (50 * 8) + ((distance - 50) * 10)\n",
        "elif distance > 100:\n",
        "    fare = (50 * 8) + (50 * 10) + ((distance - 100) * 12)\n",
        "else:\n",
        "    fare = 0\n",
        "    print(\"Invalid distance! Distance must be 1 km or more.\")\n",
        "\n",
        "# Output: Display the total fare\n",
        "if fare > 0:\n",
        "    print(f\"The total fare for {distance:.2f} km is Rs. {fare:.2f}\")\n"
      ],
      "metadata": {
        "id": "Sa0idMU6odBX",
        "outputId": "322260be-b372-424e-f480-6ae9246c358e",
        "colab": {
          "base_uri": "https://localhost:8080/"
        }
      },
      "execution_count": null,
      "outputs": [
        {
          "output_type": "stream",
          "name": "stdout",
          "text": [
            "Enter the distance traveled (in km): 60\n",
            "The total fare for 60.00 km is Rs. 500.00\n"
          ]
        }
      ]
    }
  ]
}