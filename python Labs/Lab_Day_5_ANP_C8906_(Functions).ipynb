{
  "nbformat": 4,
  "nbformat_minor": 0,
  "metadata": {
    "colab": {
      "provenance": []
    },
    "kernelspec": {
      "name": "python3",
      "display_name": "Python 3"
    },
    "language_info": {
      "name": "python"
    }
  },
  "cells": [
    {
      "cell_type": "markdown",
      "source": [
        "*1. Declare a div() function with two parameters. Then call the function and pass two numbers and display their division.*"
      ],
      "metadata": {
        "id": "0omP90eQMGPn"
      }
    },
    {
      "cell_type": "code",
      "execution_count": 1,
      "metadata": {
        "colab": {
          "base_uri": "https://localhost:8080/"
        },
        "id": "WhkGzlSLL1gg",
        "outputId": "07be0a5e-194b-4fb5-f0e7-9d6a11500724"
      },
      "outputs": [
        {
          "output_type": "execute_result",
          "data": {
            "text/plain": [
              "2.0"
            ]
          },
          "metadata": {},
          "execution_count": 1
        }
      ],
      "source": [
        "def div(a,b):\n",
        "  return a/b\n",
        "div(10,5)"
      ]
    },
    {
      "cell_type": "markdown",
      "source": [
        "*2. Declare a square() function with one parameter.Then call the function and pass one number and display the square of that number .*"
      ],
      "metadata": {
        "id": "_CZujJjtMa2g"
      }
    },
    {
      "cell_type": "code",
      "source": [
        "def square(number):\n",
        "  return number*number\n",
        "square(5)"
      ],
      "metadata": {
        "colab": {
          "base_uri": "https://localhost:8080/"
        },
        "id": "VMXZ8aSGMhaU",
        "outputId": "37205600-5d87-4ac5-d294-8cd84a7dd1da"
      },
      "execution_count": 2,
      "outputs": [
        {
          "output_type": "execute_result",
          "data": {
            "text/plain": [
              "25"
            ]
          },
          "metadata": {},
          "execution_count": 2
        }
      ]
    },
    {
      "cell_type": "markdown",
      "source": [
        "*3. Using max() and min() functions display the maximum and minimum of 5 random numbers. *"
      ],
      "metadata": {
        "id": "dFaQ97FUNG9s"
      }
    },
    {
      "cell_type": "code",
      "source": [
        "list1 = [1, 2, 3, 4, 5]\n",
        "print(\"Max is:\", max(list1))\n",
        "print(\"Min is:\", min(list1))\n"
      ],
      "metadata": {
        "colab": {
          "base_uri": "https://localhost:8080/"
        },
        "id": "qXrob9j5NKOe",
        "outputId": "d13a2aa2-2936-4b83-f6fa-51c0db0913cf"
      },
      "execution_count": 8,
      "outputs": [
        {
          "output_type": "stream",
          "name": "stdout",
          "text": [
            "Max is: 5\n",
            "Min is: 1\n"
          ]
        }
      ]
    },
    {
      "cell_type": "markdown",
      "source": [
        "4. Accept a name from the user and display that in lower case using lower() function"
      ],
      "metadata": {
        "id": "GkY4h5m_PEnM"
      }
    },
    {
      "cell_type": "code",
      "source": [
        "def convert_to_lowercase():\n",
        "    user_input = input(\"Enter text to convert to lowercase: \")\n",
        "    lower_text = user_input.lower()\n",
        "    return lower_text\n",
        "\n",
        "# Call the function and display the result\n",
        "result = convert_to_lowercase()\n",
        "print(\"Converted text:\", result)\n"
      ],
      "metadata": {
        "colab": {
          "base_uri": "https://localhost:8080/"
        },
        "id": "AmRMVQdIQcaJ",
        "outputId": "7dd8078f-b0c0-4e1b-8d08-d718fe9c8807"
      },
      "execution_count": 13,
      "outputs": [
        {
          "output_type": "stream",
          "name": "stdout",
          "text": [
            "Enter text to convert to lowercase: SHUBHAM\n",
            "Converted text: shubham\n"
          ]
        }
      ]
    }
  ]
}