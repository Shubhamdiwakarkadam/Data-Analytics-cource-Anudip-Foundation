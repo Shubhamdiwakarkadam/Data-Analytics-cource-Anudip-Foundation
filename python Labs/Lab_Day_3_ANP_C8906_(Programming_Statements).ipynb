{
  "nbformat": 4,
  "nbformat_minor": 0,
  "metadata": {
    "colab": {
      "provenance": []
    },
    "kernelspec": {
      "name": "python3",
      "display_name": "Python 3"
    },
    "language_info": {
      "name": "python"
    }
  },
  "cells": [
    {
      "cell_type": "markdown",
      "source": [
        "1. Using input() function take one number from the user and using ternary operators check whether the number is even or odd\n",
        "\n"
      ],
      "metadata": {
        "id": "5_C5CDo0fu8n"
      }
    },
    {
      "cell_type": "code",
      "execution_count": null,
      "metadata": {
        "colab": {
          "base_uri": "https://localhost:8080/"
        },
        "id": "2GKFWr-bfquW",
        "outputId": "78d95465-1ff9-4665-fc0e-093ab85d950d"
      },
      "outputs": [
        {
          "output_type": "stream",
          "name": "stdout",
          "text": [
            "Enter a number: 6\n",
            "Even\n"
          ]
        }
      ],
      "source": [
        "num = int(input(\"Enter a number: \"))\n",
        "result = \"Even\" if num % 2 == 0 else \"Odd\"\n",
        "print(result)"
      ]
    },
    {
      "cell_type": "markdown",
      "source": [
        "2. Using input function take two number and then swap the number"
      ],
      "metadata": {
        "id": "WrAAfkf6gsQs"
      }
    },
    {
      "cell_type": "code",
      "source": [
        "num = int(input(\"Enter a number: \"))\n",
        "num2 = int(input(\"Enter a number: \"))\n",
        "num, num2 = num2, num\n",
        "print(num)\n",
        "print(num2)"
      ],
      "metadata": {
        "colab": {
          "base_uri": "https://localhost:8080/"
        },
        "id": "qsXk0dEtgpqv",
        "outputId": "dd8f0ee3-c353-4cac-f3f8-52a89b0688c2"
      },
      "execution_count": null,
      "outputs": [
        {
          "output_type": "stream",
          "name": "stdout",
          "text": [
            "Enter a number: 2\n",
            "Enter a number: 6\n",
            "6\n",
            "2\n"
          ]
        }
      ]
    },
    {
      "cell_type": "markdown",
      "source": [
        "3. Write a Program to Convert Kilometers to Miles\n",
        "\n"
      ],
      "metadata": {
        "id": "RFctDxpVh4W9"
      }
    },
    {
      "cell_type": "code",
      "source": [
        "# Program to convert kilometers to miles\n",
        "\n",
        "# Define the conversion factor\n",
        "km_to_miles_conversion_factor = 0.621371\n",
        "\n",
        "# Input: Ask the user for the distance in kilometers\n",
        "kilometers = float(input(\"Enter distance in kilometers: \"))\n",
        "\n",
        "# Calculation: Convert kilometers to miles\n",
        "miles = kilometers * km_to_miles_conversion_factor\n",
        "\n",
        "# Output: Display the result\n",
        "print(f\"{kilometers} kilometers is equal to {miles:.2f} miles.\")\n"
      ],
      "metadata": {
        "id": "UzW0u_Uqh5H6",
        "colab": {
          "base_uri": "https://localhost:8080/"
        },
        "outputId": "2b5eaa7b-03f4-498c-f1ee-e39f69767fb2"
      },
      "execution_count": null,
      "outputs": [
        {
          "output_type": "stream",
          "name": "stdout",
          "text": [
            "Enter distance in kilometers: 50\n",
            "50.0 kilometers is equal to 31.07 miles.\n"
          ]
        }
      ]
    },
    {
      "cell_type": "markdown",
      "source": [
        "4. Find the Simple Interest on Rs. 200 for 5 years at 5% per year.\n",
        "\n"
      ],
      "metadata": {
        "id": "3qmvPowrcxLv"
      }
    },
    {
      "cell_type": "code",
      "source": [
        "# Define values\n",
        "principal = 200  # Principal amount in Rs\n",
        "rate_of_interest = 5  # Annual rate of interest in %\n",
        "time = 5  # Time in years\n",
        "\n",
        "# Calculate Simple Interest\n",
        "simple_interest = (principal * rate_of_interest * time) / 100\n",
        "\n",
        "# Display the result\n",
        "print(f\"The Simple Interest is Rs. {simple_interest:.2f}\")\n"
      ],
      "metadata": {
        "id": "01yYez0peZvs",
        "outputId": "b29e49e1-c45e-4397-ff19-b0d30371a215",
        "colab": {
          "base_uri": "https://localhost:8080/"
        }
      },
      "execution_count": null,
      "outputs": [
        {
          "output_type": "stream",
          "name": "stdout",
          "text": [
            "The Simple Interest is Rs. 50.00\n"
          ]
        }
      ]
    }
  ]
}